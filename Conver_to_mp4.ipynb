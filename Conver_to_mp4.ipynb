{
  "nbformat": 4,
  "nbformat_minor": 0,
  "metadata": {
    "colab": {
      "name": "Conver to mp4.ipynb",
      "provenance": [],
      "collapsed_sections": [],
      "authorship_tag": "ABX9TyMHIBZ0a6AA4YSSR8Cn1gK2",
      "include_colab_link": true
    },
    "kernelspec": {
      "name": "python3",
      "display_name": "Python 3"
    }
  },
  "cells": [
    {
      "cell_type": "markdown",
      "metadata": {
        "id": "view-in-github",
        "colab_type": "text"
      },
      "source": [
        "<a href=\"https://colab.research.google.com/github/abinjosephjosegiri/Gdrive/blob/master/Conver_to_mp4.ipynb\" target=\"_parent\"><img src=\"https://colab.research.google.com/assets/colab-badge.svg\" alt=\"Open In Colab\"/></a>"
      ]
    },
    {
      "cell_type": "code",
      "metadata": {
        "id": "9nc7jEd_Q_AX",
        "colab_type": "code",
        "colab": {
          "base_uri": "https://localhost:8080/",
          "height": 126
        },
        "outputId": "9bf22aac-c064-4669-9fbc-733157846bca"
      },
      "source": [
        "from google.colab import drive\n",
        "\n",
        "drive.mount(\"/content/drive\")\n"
      ],
      "execution_count": 2,
      "outputs": [
        {
          "output_type": "stream",
          "text": [
            "Go to this URL in a browser: https://accounts.google.com/o/oauth2/auth?client_id=947318989803-6bn6qk8qdgf4n4g3pfee6491hc0brc4i.apps.googleusercontent.com&redirect_uri=urn%3aietf%3awg%3aoauth%3a2.0%3aoob&scope=email%20https%3a%2f%2fwww.googleapis.com%2fauth%2fdocs.test%20https%3a%2f%2fwww.googleapis.com%2fauth%2fdrive%20https%3a%2f%2fwww.googleapis.com%2fauth%2fdrive.photos.readonly%20https%3a%2f%2fwww.googleapis.com%2fauth%2fpeopleapi.readonly&response_type=code\n",
            "\n",
            "Enter your authorization code:\n",
            "··········\n",
            "Mounted at /content/drive\n"
          ],
          "name": "stdout"
        }
      ]
    },
    {
      "cell_type": "code",
      "metadata": {
        "id": "0z2sSCQxTlVr",
        "colab_type": "code",
        "colab": {}
      },
      "source": [
        "cat x >> \"/content/drive/My Drive/Mp4/Movie list.txt\""
      ],
      "execution_count": 21,
      "outputs": []
    },
    {
      "cell_type": "code",
      "metadata": {
        "id": "f-8qwYOjROcu",
        "colab_type": "code",
        "colab": {
          "base_uri": "https://localhost:8080/",
          "height": 141
        },
        "outputId": "25c5e354-24ca-4190-a669-4817c18dc9fa"
      },
      "source": [
        ""
      ],
      "execution_count": 17,
      "outputs": [
        {
          "output_type": "stream",
          "text": [
            "6.2 - Stand Up (2019)[Malayalam HDTVRip - x264 - 700MB].mkv\n",
            "Geetha Govindam [2018] Malayalam Movie.mkv\n",
            "www.TamilRockers.ws - 2 States (2020) Malayalam 720p HD AVC - UNTOUCHED - x264 - 1.5GB.mkv\n",
            "www.TamilRockers.ws - College Kumar (2020)[Telugu 720p HDTVRip - x264 - 1.3GB].mkv\n",
            "www.TamilRockers.ws - C U Soon (2020)[Malayalam HDRip - x264 - 700MB - ESubs].mkv\n",
            "x\n",
            "x.txt\n"
          ],
          "name": "stdout"
        }
      ]
    },
    {
      "cell_type": "code",
      "metadata": {
        "id": "NpQT9H0rRacg",
        "colab_type": "code",
        "colab": {}
      },
      "source": [
        "!for i in *.mkv ; do ffmpeg -i \"$i\"   -preset ultrafast \"${i%.*}.mp4\";done "
      ],
      "execution_count": null,
      "outputs": []
    },
    {
      "cell_type": "code",
      "metadata": {
        "id": "0_IUPu2URvWt",
        "colab_type": "code",
        "colab": {
          "base_uri": "https://localhost:8080/",
          "height": 106
        },
        "outputId": "257529ad-746f-4a59-f078-e49c3eb45927"
      },
      "source": [
        "ls\n"
      ],
      "execution_count": 6,
      "outputs": [
        {
          "output_type": "stream",
          "text": [
            "'6.2 - Stand Up (2019)[Malayalam HDTVRip - x264 - 700MB].mkv'\n",
            "'Geetha Govindam [2018] Malayalam Movie.mkv'\n",
            "'www.TamilRockers.ws - 2 States (2020) Malayalam 720p HD AVC - UNTOUCHED - x264 - 1.5GB.mkv'\n",
            "'www.TamilRockers.ws - College Kumar (2020)[Telugu 720p HDTVRip - x264 - 1.3GB].mkv'\n",
            "'www.TamilRockers.ws - C U Soon (2020)[Malayalam HDRip - x264 - 700MB - ESubs].mkv'\n"
          ],
          "name": "stdout"
        }
      ]
    },
    {
      "cell_type": "code",
      "metadata": {
        "id": "80eEsLwAR0aj",
        "colab_type": "code",
        "colab": {}
      },
      "source": [
        "!mv /content/drive/My\\ Drive/mkv/*.mp4 /content/drive/My\\ Drive/Mp4 "
      ],
      "execution_count": null,
      "outputs": []
    },
    {
      "cell_type": "code",
      "metadata": {
        "id": "QFtOI7fHR9Ag",
        "colab_type": "code",
        "colab": {}
      },
      "source": [
        "ls"
      ],
      "execution_count": null,
      "outputs": []
    },
    {
      "cell_type": "code",
      "metadata": {
        "id": "xlsGhiPxRjIT",
        "colab_type": "code",
        "colab": {}
      },
      "source": [
        "rm -r *.mkv"
      ],
      "execution_count": null,
      "outputs": []
    }
  ]
}